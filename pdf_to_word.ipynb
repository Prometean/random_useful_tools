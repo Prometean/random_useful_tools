{
 "cells": [
  {
   "cell_type": "markdown",
   "id": "f18d02c8-3277-4cc7-a1e0-71bec62e4209",
   "metadata": {},
   "source": [
    "# This is a simple PDF to WORD Docxs converter Script"
   ]
  },
  {
   "cell_type": "code",
   "execution_count": 1,
   "id": "99adb59e-fdab-495b-b84c-d836017e1610",
   "metadata": {},
   "outputs": [],
   "source": [
    "import os\n",
    "from pdf2docx import Converter\n",
    "import pytesseract\n",
    "from pdf2image import convert_from_path\n",
    "from docx import Document\n",
    "\n",
    "def convert_scanned_pdf_to_word(pdf_path, output_folder):\n",
    "    \"\"\"\n",
    "    Converts a scanned PDF to Word document by:\n",
    "    1. Converting PDF to images\n",
    "    2. Performing OCR on the images\n",
    "    3. Creating a Word document with the extracted text\n",
    "    \n",
    "    Args:\n",
    "        pdf_path (str): Path to the PDF file\n",
    "        output_folder (str): Folder to save the output Word document\n",
    "    \n",
    "    Returns:\n",
    "        str: Path to the created Word document\n",
    "    \"\"\"\n",
    "    # Create output folder if it doesn't exist\n",
    "    if not os.path.exists(output_folder):\n",
    "        os.makedirs(output_folder)\n",
    "    \n",
    "    # Extract filename without extension\n",
    "    pdf_filename = os.path.basename(pdf_path)\n",
    "    filename_without_ext = os.path.splitext(pdf_filename)[0]\n",
    "    docx_output = os.path.join(output_folder, f\"{filename_without_ext}.docx\")\n",
    "    \n",
    "    # First try direct conversion (faster but might not work well for scanned PDFs)\n",
    "    try:\n",
    "        print(f\"Attempting direct conversion of {pdf_filename}...\")\n",
    "        cv = Converter(pdf_path)\n",
    "        cv.convert(docx_output)\n",
    "        cv.close()\n",
    "        \n",
    "        # Check if the conversion produced meaningful content\n",
    "        doc = Document(docx_output)\n",
    "        text_content = \"\\n\".join([para.text for para in doc.paragraphs])\n",
    "        \n",
    "        # If the document has content, return it\n",
    "        if len(text_content.strip()) > 100:  # Arbitrary threshold to determine if content is meaningful\n",
    "            print(f\"Direct conversion successful: {docx_output}\")\n",
    "            return docx_output\n",
    "        else:\n",
    "            print(\"Direct conversion produced limited text. Trying OCR method...\")\n",
    "            # Delete the file to prepare for OCR method\n",
    "            os.remove(docx_output)\n",
    "    except Exception as e:\n",
    "        print(f\"Direct conversion failed: {e}\")\n",
    "    \n",
    "    # For scanned PDFs, use OCR approach\n",
    "    try:\n",
    "        print(f\"Converting {pdf_filename} to images for OCR processing...\")\n",
    "        # Convert PDF to images\n",
    "        images = convert_from_path(pdf_path)\n",
    "        \n",
    "        # Create a new Word document\n",
    "        doc = Document()\n",
    "        \n",
    "        # Process each page\n",
    "        for i, image in enumerate(images):\n",
    "            print(f\"Processing page {i+1}/{len(images)}...\")\n",
    "            # Extract text using OCR\n",
    "            text = pytesseract.image_to_string(image)\n",
    "            \n",
    "            # Add page break between pages (except for the first page)\n",
    "            if i > 0:\n",
    "                doc.add_page_break()\n",
    "                \n",
    "            # Add text to document\n",
    "            doc.add_paragraph(text)\n",
    "        \n",
    "        # Save the document\n",
    "        doc.save(docx_output)\n",
    "        print(f\"OCR conversion completed: {docx_output}\")\n",
    "        return docx_output\n",
    "    \n",
    "    except Exception as e:\n",
    "        print(f\"OCR conversion failed: {e}\")\n",
    "        return None\n",
    "\n",
    "def batch_convert_pdfs(input_folder, output_folder):\n",
    "    \"\"\"\n",
    "    Converts all PDFs in a folder to Word documents\n",
    "    \n",
    "    Args:\n",
    "        input_folder (str): Folder containing PDF files\n",
    "        output_folder (str): Folder to save the output Word documents\n",
    "    \"\"\"\n",
    "    # Ensure output folder exists\n",
    "    if not os.path.exists(output_folder):\n",
    "        os.makedirs(output_folder)\n",
    "    \n",
    "    # Get all PDF files in the input folder\n",
    "    pdf_files = [f for f in os.listdir(input_folder) if f.lower().endswith('.pdf')]\n",
    "    \n",
    "    if not pdf_files:\n",
    "        print(f\"No PDF files found in {input_folder}\")\n",
    "        return\n",
    "    \n",
    "    print(f\"Found {len(pdf_files)} PDF files to convert\")\n",
    "    \n",
    "    # Convert each PDF file\n",
    "    for pdf_file in pdf_files:\n",
    "        pdf_path = os.path.join(input_folder, pdf_file)\n",
    "        print(f\"\\nProcessing: {pdf_file}\")\n",
    "        output_path = convert_scanned_pdf_to_word(pdf_path, output_folder)\n",
    "        if output_path:\n",
    "            print(f\"Conversion successful: {output_path}\")\n",
    "        else:\n",
    "            print(f\"Failed to convert: {pdf_file}\")"
   ]
  },
  {
   "cell_type": "code",
   "execution_count": 3,
   "id": "d7e80465-3eec-4df1-acd6-c1fad6da47f6",
   "metadata": {},
   "outputs": [
    {
     "name": "stderr",
     "output_type": "stream",
     "text": [
      "[INFO] Start to convert data/acta de inicio_1.pdf\n",
      "[INFO] \u001b[1;36m[1/4] Opening document...\u001b[0m\n",
      "[INFO] \u001b[1;36m[2/4] Analyzing document...\u001b[0m\n"
     ]
    },
    {
     "name": "stdout",
     "output_type": "stream",
     "text": [
      "Attempting direct conversion of acta de inicio_1.pdf...\n"
     ]
    },
    {
     "name": "stderr",
     "output_type": "stream",
     "text": [
      "[WARNING] Words count: 0. It might be a scanned pdf, which is not supported yet.\n",
      "[INFO] \u001b[1;36m[3/4] Parsing pages...\u001b[0m\n",
      "[INFO] (1/2) Page 1\n",
      "[INFO] (2/2) Page 2\n",
      "[INFO] \u001b[1;36m[4/4] Creating pages...\u001b[0m\n",
      "[INFO] (1/2) Page 1\n",
      "[INFO] (2/2) Page 2\n",
      "[INFO] Terminated in 0.79s.\n"
     ]
    },
    {
     "name": "stdout",
     "output_type": "stream",
     "text": [
      "Direct conversion produced limited text. Trying OCR method...\n",
      "Converting acta de inicio_1.pdf to images for OCR processing...\n"
     ]
    },
    {
     "name": "stderr",
     "output_type": "stream",
     "text": [
      "[INFO] Start to convert data/SOLICITUD.pdf\n",
      "[INFO] \u001b[1;36m[1/4] Opening document...\u001b[0m\n",
      "[INFO] \u001b[1;36m[2/4] Analyzing document...\u001b[0m\n"
     ]
    },
    {
     "name": "stdout",
     "output_type": "stream",
     "text": [
      "Processing page 1/2...\n",
      "OCR conversion failed: tesseract is not installed or it's not in your PATH. See README file for more information.\n",
      "Found 7 PDF files to convert\n",
      "\n",
      "Processing: SOLICITUD.pdf\n",
      "Attempting direct conversion of SOLICITUD.pdf...\n"
     ]
    },
    {
     "name": "stderr",
     "output_type": "stream",
     "text": [
      "[WARNING] Words count: 0. It might be a scanned pdf, which is not supported yet.\n",
      "[INFO] \u001b[1;36m[3/4] Parsing pages...\u001b[0m\n",
      "[INFO] (1/1) Page 1\n",
      "[INFO] \u001b[1;36m[4/4] Creating pages...\u001b[0m\n",
      "[INFO] (1/1) Page 1\n",
      "[INFO] Terminated in 0.32s.\n",
      "[INFO] Start to convert data/PLIEGOS.pdf\n",
      "[INFO] \u001b[1;36m[1/4] Opening document...\u001b[0m\n",
      "[INFO] \u001b[1;36m[2/4] Analyzing document...\u001b[0m\n"
     ]
    },
    {
     "name": "stdout",
     "output_type": "stream",
     "text": [
      "Direct conversion produced limited text. Trying OCR method...\n",
      "Converting SOLICITUD.pdf to images for OCR processing...\n",
      "Processing page 1/1...\n",
      "OCR conversion failed: tesseract is not installed or it's not in your PATH. See README file for more information.\n",
      "Failed to convert: SOLICITUD.pdf\n",
      "\n",
      "Processing: PLIEGOS.pdf\n",
      "Attempting direct conversion of PLIEGOS.pdf...\n"
     ]
    },
    {
     "name": "stderr",
     "output_type": "stream",
     "text": [
      "[INFO] \u001b[1;36m[3/4] Parsing pages...\u001b[0m\n",
      "[INFO] (1/11) Page 1\n",
      "[INFO] (2/11) Page 2\n",
      "[INFO] (3/11) Page 3\n",
      "[INFO] (4/11) Page 4\n",
      "[INFO] (5/11) Page 5\n",
      "[INFO] (6/11) Page 6\n",
      "[INFO] (7/11) Page 7\n",
      "[INFO] (8/11) Page 8\n",
      "[INFO] (9/11) Page 9\n",
      "[INFO] (10/11) Page 10\n",
      "[INFO] (11/11) Page 11\n",
      "[INFO] \u001b[1;36m[4/4] Creating pages...\u001b[0m\n",
      "[INFO] (1/11) Page 1\n",
      "[INFO] (2/11) Page 2\n",
      "[INFO] (3/11) Page 3\n",
      "[INFO] (4/11) Page 4\n",
      "[INFO] (5/11) Page 5\n",
      "[INFO] (6/11) Page 6\n",
      "[INFO] (7/11) Page 7\n",
      "[INFO] (8/11) Page 8\n",
      "[INFO] (9/11) Page 9\n",
      "[INFO] (10/11) Page 10\n",
      "[INFO] (11/11) Page 11\n",
      "[INFO] Terminated in 1.28s.\n",
      "[INFO] Start to convert data/CONVOCATORIA.pdf\n",
      "[INFO] \u001b[1;36m[1/4] Opening document...\u001b[0m\n",
      "[INFO] \u001b[1;36m[2/4] Analyzing document...\u001b[0m\n"
     ]
    },
    {
     "name": "stdout",
     "output_type": "stream",
     "text": [
      "Direct conversion successful: output/PLIEGOS.docx\n",
      "Conversion successful: output/PLIEGOS.docx\n",
      "\n",
      "Processing: CONVOCATORIA.pdf\n",
      "Attempting direct conversion of CONVOCATORIA.pdf...\n"
     ]
    },
    {
     "name": "stderr",
     "output_type": "stream",
     "text": [
      "[WARNING] Words count: 0. It might be a scanned pdf, which is not supported yet.\n",
      "[INFO] \u001b[1;36m[3/4] Parsing pages...\u001b[0m\n",
      "[INFO] (1/1) Page 1\n",
      "[INFO] \u001b[1;36m[4/4] Creating pages...\u001b[0m\n",
      "[INFO] (1/1) Page 1\n",
      "[INFO] Terminated in 0.37s.\n",
      "[INFO] Start to convert data/INVITACION.pdf\n",
      "[INFO] \u001b[1;36m[1/4] Opening document...\u001b[0m\n",
      "[INFO] \u001b[1;36m[2/4] Analyzing document...\u001b[0m\n"
     ]
    },
    {
     "name": "stdout",
     "output_type": "stream",
     "text": [
      "Direct conversion produced limited text. Trying OCR method...\n",
      "Converting CONVOCATORIA.pdf to images for OCR processing...\n",
      "Processing page 1/1...\n",
      "OCR conversion failed: tesseract is not installed or it's not in your PATH. See README file for more information.\n",
      "Failed to convert: CONVOCATORIA.pdf\n",
      "\n",
      "Processing: INVITACION.pdf\n",
      "Attempting direct conversion of INVITACION.pdf...\n"
     ]
    },
    {
     "name": "stderr",
     "output_type": "stream",
     "text": [
      "[WARNING] Words count: 0. It might be a scanned pdf, which is not supported yet.\n",
      "[INFO] \u001b[1;36m[3/4] Parsing pages...\u001b[0m\n",
      "[INFO] (1/2) Page 1\n",
      "[INFO] (2/2) Page 2\n",
      "[INFO] \u001b[1;36m[4/4] Creating pages...\u001b[0m\n",
      "[INFO] (1/2) Page 1\n",
      "[INFO] (2/2) Page 2\n",
      "[INFO] Terminated in 0.69s.\n"
     ]
    },
    {
     "name": "stdout",
     "output_type": "stream",
     "text": [
      "Direct conversion produced limited text. Trying OCR method...\n",
      "Converting INVITACION.pdf to images for OCR processing...\n"
     ]
    },
    {
     "name": "stderr",
     "output_type": "stream",
     "text": [
      "[INFO] Start to convert data/acta de inicio_2.pdf\n",
      "[INFO] \u001b[1;36m[1/4] Opening document...\u001b[0m\n",
      "[INFO] \u001b[1;36m[2/4] Analyzing document...\u001b[0m\n"
     ]
    },
    {
     "name": "stdout",
     "output_type": "stream",
     "text": [
      "Processing page 1/2...\n",
      "OCR conversion failed: tesseract is not installed or it's not in your PATH. See README file for more information.\n",
      "Failed to convert: INVITACION.pdf\n",
      "\n",
      "Processing: acta de inicio_2.pdf\n",
      "Attempting direct conversion of acta de inicio_2.pdf...\n"
     ]
    },
    {
     "name": "stderr",
     "output_type": "stream",
     "text": [
      "[WARNING] Words count: 0. It might be a scanned pdf, which is not supported yet.\n",
      "[INFO] \u001b[1;36m[3/4] Parsing pages...\u001b[0m\n",
      "[INFO] (1/2) Page 1\n",
      "[INFO] (2/2) Page 2\n",
      "[INFO] \u001b[1;36m[4/4] Creating pages...\u001b[0m\n",
      "[INFO] (1/2) Page 1\n",
      "[INFO] (2/2) Page 2\n",
      "[INFO] Terminated in 0.79s.\n"
     ]
    },
    {
     "name": "stdout",
     "output_type": "stream",
     "text": [
      "Direct conversion produced limited text. Trying OCR method...\n",
      "Converting acta de inicio_2.pdf to images for OCR processing...\n"
     ]
    },
    {
     "name": "stderr",
     "output_type": "stream",
     "text": [
      "[INFO] Start to convert data/acta de inicio_1.pdf\n",
      "[INFO] \u001b[1;36m[1/4] Opening document...\u001b[0m\n",
      "[INFO] \u001b[1;36m[2/4] Analyzing document...\u001b[0m\n"
     ]
    },
    {
     "name": "stdout",
     "output_type": "stream",
     "text": [
      "Processing page 1/2...\n",
      "OCR conversion failed: tesseract is not installed or it's not in your PATH. See README file for more information.\n",
      "Failed to convert: acta de inicio_2.pdf\n",
      "\n",
      "Processing: acta de inicio_1.pdf\n",
      "Attempting direct conversion of acta de inicio_1.pdf...\n"
     ]
    },
    {
     "name": "stderr",
     "output_type": "stream",
     "text": [
      "[WARNING] Words count: 0. It might be a scanned pdf, which is not supported yet.\n",
      "[INFO] \u001b[1;36m[3/4] Parsing pages...\u001b[0m\n",
      "[INFO] (1/2) Page 1\n",
      "[INFO] (2/2) Page 2\n",
      "[INFO] \u001b[1;36m[4/4] Creating pages...\u001b[0m\n",
      "[INFO] (1/2) Page 1\n",
      "[INFO] (2/2) Page 2\n",
      "[INFO] Terminated in 0.78s.\n"
     ]
    },
    {
     "name": "stdout",
     "output_type": "stream",
     "text": [
      "Direct conversion produced limited text. Trying OCR method...\n",
      "Converting acta de inicio_1.pdf to images for OCR processing...\n"
     ]
    },
    {
     "name": "stderr",
     "output_type": "stream",
     "text": [
      "[INFO] Start to convert data/MEMO SOLICITUD.pdf\n",
      "[INFO] \u001b[1;36m[1/4] Opening document...\u001b[0m\n",
      "[INFO] \u001b[1;36m[2/4] Analyzing document...\u001b[0m\n"
     ]
    },
    {
     "name": "stdout",
     "output_type": "stream",
     "text": [
      "Processing page 1/2...\n",
      "OCR conversion failed: tesseract is not installed or it's not in your PATH. See README file for more information.\n",
      "Failed to convert: acta de inicio_1.pdf\n",
      "\n",
      "Processing: MEMO SOLICITUD.pdf\n",
      "Attempting direct conversion of MEMO SOLICITUD.pdf...\n"
     ]
    },
    {
     "name": "stderr",
     "output_type": "stream",
     "text": [
      "[WARNING] Words count: 0. It might be a scanned pdf, which is not supported yet.\n",
      "[INFO] \u001b[1;36m[3/4] Parsing pages...\u001b[0m\n",
      "[INFO] (1/1) Page 1\n",
      "[INFO] \u001b[1;36m[4/4] Creating pages...\u001b[0m\n",
      "[INFO] (1/1) Page 1\n",
      "[INFO] Terminated in 0.40s.\n"
     ]
    },
    {
     "name": "stdout",
     "output_type": "stream",
     "text": [
      "Direct conversion produced limited text. Trying OCR method...\n",
      "Converting MEMO SOLICITUD.pdf to images for OCR processing...\n",
      "Processing page 1/1...\n",
      "OCR conversion failed: tesseract is not installed or it's not in your PATH. See README file for more information.\n",
      "Failed to convert: MEMO SOLICITUD.pdf\n"
     ]
    }
   ],
   "source": [
    "# Change this:\n",
    "convert_scanned_pdf_to_word(\"data/acta de inicio_1.pdf\", \"output\")\n",
    "\n",
    "# Don't do this - wildcards and root paths won't work:\n",
    "# batch_convert_pdfs(\"data/*\", \"/output\")\n",
    "\n",
    "# Instead, do this:\n",
    "batch_convert_pdfs(\"data\", \"output\")"
   ]
  }
 ],
 "metadata": {
  "kernelspec": {
   "display_name": "Python 3 (ipykernel)",
   "language": "python",
   "name": "python3"
  },
  "language_info": {
   "codemirror_mode": {
    "name": "ipython",
    "version": 3
   },
   "file_extension": ".py",
   "mimetype": "text/x-python",
   "name": "python",
   "nbconvert_exporter": "python",
   "pygments_lexer": "ipython3",
   "version": "3.12.1"
  }
 },
 "nbformat": 4,
 "nbformat_minor": 5
}
